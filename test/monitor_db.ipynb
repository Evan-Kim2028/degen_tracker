{
 "cells": [
  {
   "cell_type": "markdown",
   "metadata": {},
   "source": [
    "This is a basic script to monitor the lance_db updates."
   ]
  },
  {
   "cell_type": "code",
   "execution_count": 1,
   "metadata": {},
   "outputs": [
    {
     "name": "stderr",
     "output_type": "stream",
     "text": [
      "/home/evan/Documents/degen_tracker/.venv/lib/python3.12/site-packages/tqdm/auto.py:21: TqdmWarning: IProgress not found. Please update jupyter and ipywidgets. See https://ipywidgets.readthedocs.io/en/stable/user_install.html\n",
      "  from .autonotebook import tqdm as notebook_tqdm\n"
     ]
    },
    {
     "data": {
      "text/plain": [
       "polars.config.Config"
      ]
     },
     "execution_count": 1,
     "metadata": {},
     "output_type": "execute_result"
    }
   ],
   "source": [
    "import polars as pl\n",
    "import lancedb\n",
    "import time\n",
    "\n",
    "pl.Config.set_fmt_str_lengths(200)\n",
    "pl.Config.set_fmt_float(\"full\")"
   ]
  },
  {
   "cell_type": "code",
   "execution_count": 2,
   "metadata": {},
   "outputs": [
    {
     "name": "stdout",
     "output_type": "stream",
     "text": [
      "/home/evan/Documents/degen_tracker\n"
     ]
    },
    {
     "name": "stderr",
     "output_type": "stream",
     "text": [
      "/home/evan/Documents/degen_tracker/.venv/lib/python3.12/site-packages/IPython/core/magics/osm.py:417: UserWarning: This is now an optional IPython functionality, setting dhist requires you to install the `pickleshare` library.\n",
      "  self.shell.db['dhist'] = compress_dhist(dhist)[-100:]\n"
     ]
    }
   ],
   "source": [
    "cd ../"
   ]
  },
  {
   "cell_type": "code",
   "execution_count": 6,
   "metadata": {},
   "outputs": [],
   "source": [
    "# open lancedb table\n",
    "uri: str = \"logs\"\n",
    "db: lancedb.DBConnection = lancedb.connect(uri)\n",
    "logs_tbl = db.open_table(\"logs\")\n",
    "\n",
    "# convert dataset to table (full in memory)\n",
    "table = logs_tbl.to_pandas()\n",
    "pl_df = pl.from_pandas(table)"
   ]
  },
  {
   "cell_type": "code",
   "execution_count": 10,
   "metadata": {},
   "outputs": [
    {
     "data": {
      "text/html": [
       "<div><style>\n",
       ".dataframe > thead > tr,\n",
       ".dataframe > tbody > tr {\n",
       "  text-align: right;\n",
       "  white-space: pre-wrap;\n",
       "}\n",
       "</style>\n",
       "<small>shape: (10, 2)</small><table border=\"1\" class=\"dataframe\"><thead><tr><th>block_number</th><th>transfers_count</th></tr><tr><td>i64</td><td>u32</td></tr></thead><tbody><tr><td>13126668</td><td>84</td></tr><tr><td>13126667</td><td>86</td></tr><tr><td>13126666</td><td>84</td></tr><tr><td>13126665</td><td>37</td></tr><tr><td>13126664</td><td>76</td></tr><tr><td>13126663</td><td>63</td></tr><tr><td>13126662</td><td>93</td></tr><tr><td>13126661</td><td>106</td></tr><tr><td>13126660</td><td>237</td></tr><tr><td>13126659</td><td>91</td></tr></tbody></table></div>"
      ],
      "text/plain": [
       "shape: (10, 2)\n",
       "┌──────────────┬─────────────────┐\n",
       "│ block_number ┆ transfers_count │\n",
       "│ ---          ┆ ---             │\n",
       "│ i64          ┆ u32             │\n",
       "╞══════════════╪═════════════════╡\n",
       "│ 13126668     ┆ 84              │\n",
       "│ 13126667     ┆ 86              │\n",
       "│ 13126666     ┆ 84              │\n",
       "│ 13126665     ┆ 37              │\n",
       "│ 13126664     ┆ 76              │\n",
       "│ 13126663     ┆ 63              │\n",
       "│ 13126662     ┆ 93              │\n",
       "│ 13126661     ┆ 106             │\n",
       "│ 13126660     ┆ 237             │\n",
       "│ 13126659     ┆ 91              │\n",
       "└──────────────┴─────────────────┘"
      ]
     },
     "execution_count": 10,
     "metadata": {},
     "output_type": "execute_result"
    }
   ],
   "source": [
    "pl_df.sort(by='block_number', descending=True).group_by('block_number').agg(pl.len().alias('transfers_count')).sort(by='block_number', descending=True).head(10)"
   ]
  },
  {
   "cell_type": "code",
   "execution_count": null,
   "metadata": {},
   "outputs": [],
   "source": []
  },
  {
   "cell_type": "code",
   "execution_count": 7,
   "metadata": {},
   "outputs": [
    {
     "data": {
      "text/html": [
       "<div><style>\n",
       ".dataframe > thead > tr,\n",
       ".dataframe > tbody > tr {\n",
       "  text-align: right;\n",
       "  white-space: pre-wrap;\n",
       "}\n",
       "</style>\n",
       "<small>shape: (10, 2)</small><table border=\"1\" class=\"dataframe\"><thead><tr><th>from</th><th>address_swap_count</th></tr><tr><td>str</td><td>u32</td></tr></thead><tbody><tr><td>&quot;0xe07f424a17f4489deee9fdada364a370b9290959&quot;</td><td>25570</td></tr><tr><td>&quot;0x5c90ef4a8d0dad23fddb9483a420f3ae29078c74&quot;</td><td>10174</td></tr><tr><td>&quot;0x19b43787fbc106d427be3ca3307d4fb0a73d83dc&quot;</td><td>6120</td></tr><tr><td>&quot;0x40725d97f5352dfbf749de29ed328ac6189e51a9&quot;</td><td>5411</td></tr><tr><td>&quot;0x7beca9348b79e545d5f0b8fd178dced98b4d45b2&quot;</td><td>3534</td></tr><tr><td>&quot;0xbbb5ac2c0998d38e5f34dbfd9d6201a30993e555&quot;</td><td>3458</td></tr><tr><td>&quot;0xd056c0eee354b24fe7c5d4ee762c4d7574badac1&quot;</td><td>3404</td></tr><tr><td>&quot;0x4390bb890a3e87dbd62cc9a5738ac1ecbeafaca7&quot;</td><td>3185</td></tr><tr><td>&quot;0xc647244fdba1ea6309ec332d65f3f8f6132b064b&quot;</td><td>3145</td></tr><tr><td>&quot;0xf20d2e37514195ebedb0bc735ba6090ce103d38c&quot;</td><td>3099</td></tr></tbody></table></div>"
      ],
      "text/plain": [
       "shape: (10, 2)\n",
       "┌────────────────────────────────────────────┬────────────────────┐\n",
       "│ from                                       ┆ address_swap_count │\n",
       "│ ---                                        ┆ ---                │\n",
       "│ str                                        ┆ u32                │\n",
       "╞════════════════════════════════════════════╪════════════════════╡\n",
       "│ 0xe07f424a17f4489deee9fdada364a370b9290959 ┆ 25570              │\n",
       "│ 0x5c90ef4a8d0dad23fddb9483a420f3ae29078c74 ┆ 10174              │\n",
       "│ 0x19b43787fbc106d427be3ca3307d4fb0a73d83dc ┆ 6120               │\n",
       "│ 0x40725d97f5352dfbf749de29ed328ac6189e51a9 ┆ 5411               │\n",
       "│ 0x7beca9348b79e545d5f0b8fd178dced98b4d45b2 ┆ 3534               │\n",
       "│ 0xbbb5ac2c0998d38e5f34dbfd9d6201a30993e555 ┆ 3458               │\n",
       "│ 0xd056c0eee354b24fe7c5d4ee762c4d7574badac1 ┆ 3404               │\n",
       "│ 0x4390bb890a3e87dbd62cc9a5738ac1ecbeafaca7 ┆ 3185               │\n",
       "│ 0xc647244fdba1ea6309ec332d65f3f8f6132b064b ┆ 3145               │\n",
       "│ 0xf20d2e37514195ebedb0bc735ba6090ce103d38c ┆ 3099               │\n",
       "└────────────────────────────────────────────┴────────────────────┘"
      ]
     },
     "execution_count": 7,
     "metadata": {},
     "output_type": "execute_result"
    }
   ],
   "source": [
    "pl_df.sort(by='block_number', descending=True).filter(pl.col('value_transferred') != 0).group_by('from').agg(pl.len().alias('address_swap_count')).sort(by='address_swap_count', descending=True).head(10)"
   ]
  },
  {
   "cell_type": "code",
   "execution_count": 5,
   "metadata": {},
   "outputs": [
    {
     "name": "stdout",
     "output_type": "stream",
     "text": [
      "(547201, 6)\n",
      "(547201, 6)\n",
      "(547591, 6)\n",
      "(548181, 6)\n"
     ]
    },
    {
     "ename": "KeyboardInterrupt",
     "evalue": "",
     "output_type": "error",
     "traceback": [
      "\u001b[0;31m---------------------------------------------------------------------------\u001b[0m",
      "\u001b[0;31mKeyboardInterrupt\u001b[0m                         Traceback (most recent call last)",
      "Cell \u001b[0;32mIn[5], line 13\u001b[0m\n\u001b[1;32m     11\u001b[0m pl_df\u001b[38;5;241m.\u001b[39msort(by\u001b[38;5;241m=\u001b[39m\u001b[38;5;124m'\u001b[39m\u001b[38;5;124mblock_number\u001b[39m\u001b[38;5;124m'\u001b[39m, descending\u001b[38;5;241m=\u001b[39m\u001b[38;5;28;01mTrue\u001b[39;00m)\n\u001b[1;32m     12\u001b[0m \u001b[38;5;28mprint\u001b[39m(pl_df\u001b[38;5;241m.\u001b[39mshape)\n\u001b[0;32m---> 13\u001b[0m \u001b[43mtime\u001b[49m\u001b[38;5;241;43m.\u001b[39;49m\u001b[43msleep\u001b[49m\u001b[43m(\u001b[49m\u001b[38;5;241;43m5\u001b[39;49m\u001b[43m)\u001b[49m\n",
      "\u001b[0;31mKeyboardInterrupt\u001b[0m: "
     ]
    }
   ],
   "source": [
    "while True:\n",
    "    # open lancedb table\n",
    "    uri: str = \"logs\"\n",
    "    db: lancedb.DBConnection = lancedb.connect(uri)\n",
    "    logs_tbl = db.open_table(\"logs\")\n",
    "\n",
    "    # convert dataset to table (full in memory)\n",
    "    table = logs_tbl.to_pandas()\n",
    "    pl_df = pl.from_pandas(table)\n",
    "\n",
    "    pl_df.sort(by='block_number', descending=True)\n",
    "    print(pl_df.shape)\n",
    "    time.sleep(5)"
   ]
  },
  {
   "cell_type": "code",
   "execution_count": null,
   "metadata": {},
   "outputs": [],
   "source": []
  }
 ],
 "metadata": {
  "kernelspec": {
   "display_name": ".venv",
   "language": "python",
   "name": "python3"
  },
  "language_info": {
   "codemirror_mode": {
    "name": "ipython",
    "version": 3
   },
   "file_extension": ".py",
   "mimetype": "text/x-python",
   "name": "python",
   "nbconvert_exporter": "python",
   "pygments_lexer": "ipython3",
   "version": "3.12.2"
  }
 },
 "nbformat": 4,
 "nbformat_minor": 2
}
